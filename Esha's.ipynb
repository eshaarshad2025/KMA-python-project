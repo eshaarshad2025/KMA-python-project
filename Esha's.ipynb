{
 "cells": [
  {
   "cell_type": "code",
   "execution_count": 1,
   "id": "03fc6acb-c9b0-4c9d-bdb8-8e176341bd3c",
   "metadata": {},
   "outputs": [
    {
     "name": "stdout",
     "output_type": "stream",
     "text": [
      "📘 Welcome to the Python Library Management Assistant\n"
     ]
    },
    {
     "name": "stdin",
     "output_type": "stream",
     "text": [
      "Enter member name:  Farheen\n",
      "Enter age:  22\n",
      "Enter city:  Islamabad\n"
     ]
    },
    {
     "name": "stdout",
     "output_type": "stream",
     "text": [
      "\n",
      "📋 Member Registered: Farheen, Age: 22, City: Islamabad\n",
      "\n",
      "📚 Add 3 books to the library\n"
     ]
    },
    {
     "name": "stdin",
     "output_type": "stream",
     "text": [
      "Enter book 1 name:  Alice in Wonderland\n",
      "Enter book 2 name:  \n",
      "Enter book 3 name:  French Revolution\n",
      "\n",
      "🔍 Enter book name to search:  peer qamil\n"
     ]
    },
    {
     "name": "stdout",
     "output_type": "stream",
     "text": [
      "❌ 'peer qamil' is not found.\n"
     ]
    },
    {
     "name": "stdin",
     "output_type": "stream",
     "text": [
      "\n",
      "📅 How many days late is the return?  5\n"
     ]
    },
    {
     "name": "stdout",
     "output_type": "stream",
     "text": [
      "💸 Total fine: Rs. 25\n"
     ]
    },
    {
     "name": "stdin",
     "output_type": "stream",
     "text": [
      "\n",
      "Enter a book title for analysis:  Alice in Wonderland\n"
     ]
    },
    {
     "name": "stdout",
     "output_type": "stream",
     "text": [
      "📖 The letter 'a' appears 2 times in 'Alice in Wonderland'.\n",
      "\n",
      "✨ Here's a quote for today:\n",
      "“A reader lives a thousand lives before he dies . . . The man who never reads lives only one.” – George R.R. Martin\n",
      "\n",
      "📌 Thank you, Farheen, for visiting the library. Have a great day!\n"
     ]
    }
   ],
   "source": [
    "# 🟢 Function: Register New Member\n",
    "def register_member():\n",
    "    name = input(\"Enter member name: \")\n",
    "    age = int(input(\"Enter age: \"))\n",
    "    city = input(\"Enter city: \")\n",
    "    print(f\"\\n📋 Member Registered: {name}, Age: {age}, City: {city}\")\n",
    "    return name\n",
    "\n",
    "# 🟢 Function: Add Books to Library\n",
    "def add_books():\n",
    "    books = []\n",
    "    print(\"\\n📚 Add 3 books to the library\")\n",
    "    for i in range(3):\n",
    "        book = input(f\"Enter book {i+1} name: \")\n",
    "        books.append(book)\n",
    "    return books\n",
    "\n",
    "# 🟢 Function: Check Book Availability\n",
    "def check_book(books):\n",
    "    search = input(\"\\n🔍 Enter book name to search: \")\n",
    "    if search in books:\n",
    "        print(f\"✅ '{search}' is available in the library.\")\n",
    "    else:\n",
    "        print(f\"❌ '{search}' is not found.\")\n",
    "\n",
    "# 🟢 Function: Late Return Fine Calculator\n",
    "def fine_calculator():\n",
    "    days_late = int(input(\"\\n📅 How many days late is the return? \"))\n",
    "    fine = 0\n",
    "    if days_late <= 5:\n",
    "        fine = days_late * 5\n",
    "    elif days_late <= 10:\n",
    "        fine = (5 * 5) + (days_late - 5) * 10\n",
    "    else:\n",
    "        fine = (5 * 5) + (5 * 10) + (days_late - 10) * 15\n",
    "    print(f\"💸 Total fine: Rs. {fine}\")\n",
    "\n",
    "# 🟢 Function: Book Title Analysis\n",
    "def analyze_title():\n",
    "    title = input(\"\\nEnter a book title for analysis: \")\n",
    "    a_count = title.lower().count(\"a\")\n",
    "    print(f\"📖 The letter 'a' appears {a_count} times in '{title}'.\")\n",
    "\n",
    "# 🟢 Function: Motivational Quote\n",
    "def motivational_message():\n",
    "    print(\"\\n✨ Here's a quote for today:\")\n",
    "    print(\"“A reader lives a thousand lives before he dies . . . The man who never reads lives only one.” – George R.R. Martin\")\n",
    "\n",
    "# 🔵 MAIN PROGRAM\n",
    "print(\"📘 Welcome to the Python Library Management Assistant\")\n",
    "\n",
    "member_name = register_member()\n",
    "library_books = add_books()\n",
    "check_book(library_books)\n",
    "fine_calculator()\n",
    "analyze_title()\n",
    "motivational_message()\n",
    "\n",
    "print(f\"\\n📌 Thank you, {member_name}, for visiting the library. Have a great day!\")\n"
   ]
  },
  {
   "cell_type": "code",
   "execution_count": null,
   "id": "271ee24b-e31b-4834-9dd6-6765348ff626",
   "metadata": {},
   "outputs": [],
   "source": []
  }
 ],
 "metadata": {
  "kernelspec": {
   "display_name": "Python 3 (ipykernel)",
   "language": "python",
   "name": "python3"
  },
  "language_info": {
   "codemirror_mode": {
    "name": "ipython",
    "version": 3
   },
   "file_extension": ".py",
   "mimetype": "text/x-python",
   "name": "python",
   "nbconvert_exporter": "python",
   "pygments_lexer": "ipython3",
   "version": "3.12.7"
  }
 },
 "nbformat": 4,
 "nbformat_minor": 5
}
